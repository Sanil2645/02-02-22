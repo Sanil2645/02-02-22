{
 "cells": [
  {
   "cell_type": "markdown",
   "id": "8681053a",
   "metadata": {},
   "source": [
    "### Input and output methods\n",
    "- Reading the data or information from the user---***input()***\n",
    "    - Static input\n",
    "    - Dynamical input\n",
    "- Displaying the information or data to user---***print()***"
   ]
  },
  {
   "cell_type": "code",
   "execution_count": 1,
   "id": "d8901dc1",
   "metadata": {},
   "outputs": [
    {
     "name": "stdout",
     "output_type": "stream",
     "text": [
      "20\n",
      "30\n"
     ]
    }
   ],
   "source": [
    "a=20\n",
    "b=30\n",
    "print(a)\n",
    "print(b)"
   ]
  },
  {
   "cell_type": "code",
   "execution_count": 2,
   "id": "0967c6ec",
   "metadata": {},
   "outputs": [
    {
     "name": "stdout",
     "output_type": "stream",
     "text": [
      "anil kumar\n"
     ]
    },
    {
     "data": {
      "text/plain": [
       "'anil kumar'"
      ]
     },
     "execution_count": 2,
     "metadata": {},
     "output_type": "execute_result"
    }
   ],
   "source": [
    "a=input()\n",
    "a"
   ]
  },
  {
   "cell_type": "code",
   "execution_count": 3,
   "id": "9f4b08f8",
   "metadata": {},
   "outputs": [
    {
     "name": "stdout",
     "output_type": "stream",
     "text": [
      "333\n"
     ]
    },
    {
     "data": {
      "text/plain": [
       "'333'"
      ]
     },
     "execution_count": 3,
     "metadata": {},
     "output_type": "execute_result"
    }
   ],
   "source": [
    "a=input()\n",
    "a"
   ]
  },
  {
   "cell_type": "code",
   "execution_count": 4,
   "id": "bea71ca2",
   "metadata": {},
   "outputs": [
    {
     "name": "stdout",
     "output_type": "stream",
     "text": [
      "enter user value006\n"
     ]
    },
    {
     "data": {
      "text/plain": [
       "'006'"
      ]
     },
     "execution_count": 4,
     "metadata": {},
     "output_type": "execute_result"
    }
   ],
   "source": [
    "a=input(\"enter user value\")\n",
    "a"
   ]
  },
  {
   "cell_type": "code",
   "execution_count": 5,
   "id": "3a988826",
   "metadata": {},
   "outputs": [
    {
     "name": "stdout",
     "output_type": "stream",
     "text": [
      "enter user value333\n"
     ]
    },
    {
     "data": {
      "text/plain": [
       "333.0"
      ]
     },
     "execution_count": 5,
     "metadata": {},
     "output_type": "execute_result"
    }
   ],
   "source": [
    "a=float(input(\"enter user value\"))\n",
    "a"
   ]
  },
  {
   "cell_type": "code",
   "execution_count": 6,
   "id": "d0efa20d",
   "metadata": {},
   "outputs": [
    {
     "name": "stdout",
     "output_type": "stream",
     "text": [
      "enter a value345\n",
      "345\n"
     ]
    }
   ],
   "source": [
    "a=input(\"enter a value\")\n",
    "print(a)"
   ]
  },
  {
   "cell_type": "code",
   "execution_count": 7,
   "id": "c58aec13",
   "metadata": {},
   "outputs": [
    {
     "name": "stdout",
     "output_type": "stream",
     "text": [
      "30 40 60\n"
     ]
    }
   ],
   "source": [
    "a=30\n",
    "b=40\n",
    "c=60\n",
    "print(a,b,c)"
   ]
  },
  {
   "cell_type": "code",
   "execution_count": 8,
   "id": "4aa4c1bd",
   "metadata": {},
   "outputs": [
    {
     "name": "stdout",
     "output_type": "stream",
     "text": [
      "Help on built-in function print in module builtins:\n",
      "\n",
      "print(...)\n",
      "    print(value, ..., sep=' ', end='\\n', file=sys.stdout, flush=False)\n",
      "    \n",
      "    Prints the values to a stream, or to sys.stdout by default.\n",
      "    Optional keyword arguments:\n",
      "    file:  a file-like object (stream); defaults to the current sys.stdout.\n",
      "    sep:   string inserted between values, default a space.\n",
      "    end:   string appended after the last value, default a newline.\n",
      "    flush: whether to forcibly flush the stream.\n",
      "\n"
     ]
    }
   ],
   "source": [
    "help(print)"
   ]
  },
  {
   "cell_type": "code",
   "execution_count": 12,
   "id": "be449b40",
   "metadata": {},
   "outputs": [
    {
     "name": "stdout",
     "output_type": "stream",
     "text": [
      "30,40,60\n",
      "60\n"
     ]
    }
   ],
   "source": [
    "a=30\n",
    "b=40\n",
    "c=60\n",
    "print(a,b,c,sep=\",\",end=\"\\n\")\n",
    "print(c)"
   ]
  },
  {
   "cell_type": "code",
   "execution_count": 13,
   "id": "28c8acd3",
   "metadata": {},
   "outputs": [
    {
     "name": "stdout",
     "output_type": "stream",
     "text": [
      "30 40 60%"
     ]
    }
   ],
   "source": [
    "a=30\n",
    "b=40\n",
    "c=60\n",
    "print(a,b,c,end=\"%\")"
   ]
  },
  {
   "cell_type": "code",
   "execution_count": 21,
   "id": "07057f1b",
   "metadata": {},
   "outputs": [
    {
     "name": "stdout",
     "output_type": "stream",
     "text": [
      "enter a value23\n",
      "enter b value44\n",
      "enter c value356\n",
      "23$44$356%23 44 356\n"
     ]
    }
   ],
   "source": [
    "# generate the three values from the user that values seperated with $ and end with % and again print all values\n",
    "a=input(\"enter a value\")\n",
    "b=input(\"enter b value\")\n",
    "c=input(\"enter c value\")\n",
    "print(a,b,c,sep=\"$\",end=\"%\")  \n",
    "print(a,b,c)"
   ]
  },
  {
   "cell_type": "markdown",
   "id": "2e78f2da",
   "metadata": {},
   "source": [
    "### operators\n",
    "- Arithmatic operators(+,-,*,**,/,//,%)\n",
    "    - Output for the normal division quotient\n",
    "    - Output for the int division or floor division is integer part of the quotient\n",
    "    - Output for the modulo division is remainder\n",
    "- Assignment operators(=)\n",
    "- Comparision operators(<,>,<=,>=,==)\n",
    "- Logical operators(and,or,not)\n",
    "- Bitwise operators(&,|,^)\n",
    "- Identify operators(is (==),isnot(!=))\n",
    "- Membership operators(in,notin)"
   ]
  },
  {
   "cell_type": "code",
   "execution_count": 24,
   "id": "026ba518",
   "metadata": {},
   "outputs": [
    {
     "name": "stdout",
     "output_type": "stream",
     "text": [
      "addition 6\n",
      "subtraction -2\n",
      "multiplication 8\n",
      "power 16\n",
      "division 0.5\n",
      "int division or floor division 0\n",
      "modulo division 2\n"
     ]
    }
   ],
   "source": [
    "a=2\n",
    "b=4\n",
    "print(\"addition\",a+b)\n",
    "print(\"subtraction\",a-b)\n",
    "print(\"multiplication\",a*b)\n",
    "print(\"power\",a**b)\n",
    "print(\"division\",a/b)\n",
    "print(\"int division or floor division\",a//b)\n",
    "print(\"modulo division\",a%b)"
   ]
  },
  {
   "cell_type": "markdown",
   "id": "3154029f",
   "metadata": {},
   "source": [
    "###  Assignment operator\n",
    "    - it represents with =\n",
    "    - leftside value of the operator(=) is called as a variable\n",
    "    - rifgtside value of the variable(=) is  called as a value"
   ]
  },
  {
   "cell_type": "code",
   "execution_count": 25,
   "id": "4b151490",
   "metadata": {},
   "outputs": [
    {
     "name": "stdout",
     "output_type": "stream",
     "text": [
      "30\n",
      "60\n"
     ]
    }
   ],
   "source": [
    "a=30\n",
    "b=60\n",
    "print(a)\n",
    "print(b)"
   ]
  },
  {
   "cell_type": "markdown",
   "id": "a00de9f4",
   "metadata": {},
   "source": [
    "### comparision operator"
   ]
  },
  {
   "cell_type": "code",
   "execution_count": 26,
   "id": "0ac26c2a",
   "metadata": {},
   "outputs": [
    {
     "data": {
      "text/plain": [
       "True"
      ]
     },
     "execution_count": 26,
     "metadata": {},
     "output_type": "execute_result"
    }
   ],
   "source": [
    "2<6"
   ]
  },
  {
   "cell_type": "code",
   "execution_count": 27,
   "id": "f8abec52",
   "metadata": {},
   "outputs": [
    {
     "data": {
      "text/plain": [
       "True"
      ]
     },
     "execution_count": 27,
     "metadata": {},
     "output_type": "execute_result"
    }
   ],
   "source": [
    "6>2"
   ]
  },
  {
   "cell_type": "code",
   "execution_count": 32,
   "id": "d6d90519",
   "metadata": {},
   "outputs": [
    {
     "name": "stdout",
     "output_type": "stream",
     "text": [
      "anil\n"
     ]
    }
   ],
   "source": [
    "if 2>9 and 2<=6:\n",
    "    print(\"print true or false\")\n",
    "else:\n",
    "    print(\"anil\")"
   ]
  },
  {
   "cell_type": "code",
   "execution_count": 33,
   "id": "24eeec8a",
   "metadata": {},
   "outputs": [
    {
     "data": {
      "text/plain": [
       "True"
      ]
     },
     "execution_count": 33,
     "metadata": {},
     "output_type": "execute_result"
    }
   ],
   "source": [
    "8>=2"
   ]
  },
  {
   "cell_type": "code",
   "execution_count": 34,
   "id": "13385a06",
   "metadata": {},
   "outputs": [
    {
     "data": {
      "text/plain": [
       "False"
      ]
     },
     "execution_count": 34,
     "metadata": {},
     "output_type": "execute_result"
    }
   ],
   "source": [
    "2>=9"
   ]
  },
  {
   "cell_type": "markdown",
   "id": "bd314348",
   "metadata": {},
   "source": [
    "### logical operators\n",
    "    - and,or,not\n",
    "- if all inputs are true the output is true(and).\n",
    "- if  any one of the input is true the output is true(or).\n",
    "- opposite operation for the given one(not)."
   ]
  },
  {
   "cell_type": "code",
   "execution_count": 35,
   "id": "7937a6a2",
   "metadata": {},
   "outputs": [
    {
     "data": {
      "text/plain": [
       "False"
      ]
     },
     "execution_count": 35,
     "metadata": {},
     "output_type": "execute_result"
    }
   ],
   "source": [
    "2<5 and 3>6"
   ]
  },
  {
   "cell_type": "code",
   "execution_count": 36,
   "id": "a6769ae8",
   "metadata": {},
   "outputs": [
    {
     "data": {
      "text/plain": [
       "False"
      ]
     },
     "execution_count": 36,
     "metadata": {},
     "output_type": "execute_result"
    }
   ],
   "source": [
    "2>5 and 3<6"
   ]
  },
  {
   "cell_type": "code",
   "execution_count": 37,
   "id": "f4f24860",
   "metadata": {},
   "outputs": [
    {
     "data": {
      "text/plain": [
       "True"
      ]
     },
     "execution_count": 37,
     "metadata": {},
     "output_type": "execute_result"
    }
   ],
   "source": [
    "2<5 and 3<6"
   ]
  },
  {
   "cell_type": "code",
   "execution_count": 38,
   "id": "0f5803eb",
   "metadata": {},
   "outputs": [
    {
     "data": {
      "text/plain": [
       "True"
      ]
     },
     "execution_count": 38,
     "metadata": {},
     "output_type": "execute_result"
    }
   ],
   "source": [
    "2>5 or 3<6"
   ]
  },
  {
   "cell_type": "code",
   "execution_count": 39,
   "id": "e2b59e04",
   "metadata": {},
   "outputs": [
    {
     "data": {
      "text/plain": [
       "False"
      ]
     },
     "execution_count": 39,
     "metadata": {},
     "output_type": "execute_result"
    }
   ],
   "source": [
    "2>5 or 3<1"
   ]
  },
  {
   "cell_type": "code",
   "execution_count": 40,
   "id": "8365618e",
   "metadata": {},
   "outputs": [
    {
     "data": {
      "text/plain": [
       "False"
      ]
     },
     "execution_count": 40,
     "metadata": {},
     "output_type": "execute_result"
    }
   ],
   "source": [
    "a=100\n",
    "not a"
   ]
  },
  {
   "cell_type": "markdown",
   "id": "82cea7e5",
   "metadata": {},
   "source": [
    "### Bitwise operator"
   ]
  },
  {
   "cell_type": "code",
   "execution_count": 44,
   "id": "004f1fb3",
   "metadata": {},
   "outputs": [
    {
     "data": {
      "text/plain": [
       "2"
      ]
     },
     "execution_count": 44,
     "metadata": {},
     "output_type": "execute_result"
    }
   ],
   "source": [
    "2 & 3\n",
    "# 2- 0 0 1 0\n",
    "# 3- 0 0 1 1\n",
    "# --------------\n",
    "#  - 0 0 1 0"
   ]
  },
  {
   "cell_type": "code",
   "execution_count": 46,
   "id": "61615cd1",
   "metadata": {},
   "outputs": [
    {
     "data": {
      "text/plain": [
       "7"
      ]
     },
     "execution_count": 46,
     "metadata": {},
     "output_type": "execute_result"
    }
   ],
   "source": [
    "3|4"
   ]
  },
  {
   "cell_type": "code",
   "execution_count": 47,
   "id": "2a734027",
   "metadata": {},
   "outputs": [
    {
     "data": {
      "text/plain": [
       "16"
      ]
     },
     "execution_count": 47,
     "metadata": {},
     "output_type": "execute_result"
    }
   ],
   "source": [
    "2<<3"
   ]
  },
  {
   "cell_type": "code",
   "execution_count": 48,
   "id": "4d86fb0a",
   "metadata": {},
   "outputs": [
    {
     "data": {
      "text/plain": [
       "0"
      ]
     },
     "execution_count": 48,
     "metadata": {},
     "output_type": "execute_result"
    }
   ],
   "source": [
    "2>>3"
   ]
  },
  {
   "cell_type": "markdown",
   "id": "e2a35835",
   "metadata": {},
   "source": [
    "### identity operator"
   ]
  },
  {
   "cell_type": "code",
   "execution_count": 51,
   "id": "53526e9c",
   "metadata": {},
   "outputs": [
    {
     "name": "stderr",
     "output_type": "stream",
     "text": [
      "<>:1: SyntaxWarning: \"is\" with a literal. Did you mean \"==\"?\n",
      "<>:1: SyntaxWarning: \"is not\" with a literal. Did you mean \"!=\"?\n",
      "<>:1: SyntaxWarning: \"is\" with a literal. Did you mean \"==\"?\n",
      "<>:1: SyntaxWarning: \"is not\" with a literal. Did you mean \"!=\"?\n",
      "C:\\Users\\EFLAB\\AppData\\Local\\Temp/ipykernel_1840/1988167162.py:1: SyntaxWarning: \"is\" with a literal. Did you mean \"==\"?\n",
      "  a is 100 and a is not 100\n",
      "C:\\Users\\EFLAB\\AppData\\Local\\Temp/ipykernel_1840/1988167162.py:1: SyntaxWarning: \"is not\" with a literal. Did you mean \"!=\"?\n",
      "  a is 100 and a is not 100\n"
     ]
    },
    {
     "data": {
      "text/plain": [
       "False"
      ]
     },
     "execution_count": 51,
     "metadata": {},
     "output_type": "execute_result"
    }
   ],
   "source": [
    "a is 100 and a is not 100"
   ]
  },
  {
   "cell_type": "code",
   "execution_count": 52,
   "id": "823b5451",
   "metadata": {},
   "outputs": [
    {
     "data": {
      "text/plain": [
       "False"
      ]
     },
     "execution_count": 52,
     "metadata": {},
     "output_type": "execute_result"
    }
   ],
   "source": [
    "a == 100 and a != 100"
   ]
  },
  {
   "cell_type": "markdown",
   "id": "a8e5dfea",
   "metadata": {},
   "source": [
    "### Membership operator"
   ]
  },
  {
   "cell_type": "code",
   "execution_count": 53,
   "id": "8d1c432c",
   "metadata": {},
   "outputs": [
    {
     "data": {
      "text/plain": [
       "False"
      ]
     },
     "execution_count": 53,
     "metadata": {},
     "output_type": "execute_result"
    }
   ],
   "source": [
    "s=[1,3,5,7,9]\n",
    "4 in s"
   ]
  },
  {
   "cell_type": "code",
   "execution_count": 54,
   "id": "2ed0ff4e",
   "metadata": {},
   "outputs": [
    {
     "data": {
      "text/plain": [
       "True"
      ]
     },
     "execution_count": 54,
     "metadata": {},
     "output_type": "execute_result"
    }
   ],
   "source": [
    "10 not in s"
   ]
  },
  {
   "cell_type": "code",
   "execution_count": 55,
   "id": "eb2ba24e",
   "metadata": {},
   "outputs": [
    {
     "data": {
      "text/plain": [
       "True"
      ]
     },
     "execution_count": 55,
     "metadata": {},
     "output_type": "execute_result"
    }
   ],
   "source": [
    "2 not in s"
   ]
  },
  {
   "cell_type": "code",
   "execution_count": 56,
   "id": "7b30e407",
   "metadata": {},
   "outputs": [
    {
     "data": {
      "text/plain": [
       "True"
      ]
     },
     "execution_count": 56,
     "metadata": {},
     "output_type": "execute_result"
    }
   ],
   "source": [
    "12 not in s"
   ]
  },
  {
   "cell_type": "code",
   "execution_count": 62,
   "id": "5c4f40c8",
   "metadata": {},
   "outputs": [
    {
     "data": {
      "text/plain": [
       "True"
      ]
     },
     "execution_count": 62,
     "metadata": {},
     "output_type": "execute_result"
    }
   ],
   "source": [
    "12 not in s"
   ]
  },
  {
   "cell_type": "code",
   "execution_count": 61,
   "id": "e88c8864",
   "metadata": {},
   "outputs": [],
   "source": [
    "a=45\n",
    "a+=1--->a=a+1\n",
    "a-=1---->a=a-1\n",
    "a*=1---->a=a*1\n",
    "a/=1---->a=a/1"
   ]
  },
  {
   "cell_type": "markdown",
   "id": "1272ac93",
   "metadata": {},
   "source": [
    "### Flow control\n",
    "- Conditional satements(if,else,elif,nestedif)\n",
    "- Loops(for,while)\n",
    "- Break,return"
   ]
  },
  {
   "cell_type": "markdown",
   "id": "0bf96c67",
   "metadata": {},
   "source": [
    "# c-language\n",
    "if(condition){\n",
    "    print(a)\n",
    "}"
   ]
  },
  {
   "cell_type": "markdown",
   "id": "6ca2d3a4",
   "metadata": {},
   "source": [
    "## conditional statements"
   ]
  },
  {
   "cell_type": "markdown",
   "id": "42315b3e",
   "metadata": {},
   "source": [
    "# if\n",
    "if (condition):\n",
    "    statement1\n",
    "    statement2\n",
    "    statement3\n",
    "    ---------\n",
    "    statementn\n",
    "    "
   ]
  },
  {
   "cell_type": "code",
   "execution_count": null,
   "id": "a2e4b5a5",
   "metadata": {},
   "outputs": [],
   "source": [
    "#if-else\n",
    "if (condition):\n",
    "    statement1\n",
    "    statement2\n",
    "    statement3\n",
    "    ----------\n",
    "    statementn\n",
    "    else:\n",
    "        statement1\n",
    "        statement2\n",
    "        statement3\n",
    "        ----------\n",
    "        statementn"
   ]
  },
  {
   "cell_type": "code",
   "execution_count": 6,
   "id": "5d59e348",
   "metadata": {},
   "outputs": [
    {
     "name": "stdout",
     "output_type": "stream",
     "text": [
      "False\n"
     ]
    }
   ],
   "source": [
    "if 2>3:\n",
    "    print(\"True\")\n",
    "else:\n",
    "    print(\"False\")"
   ]
  },
  {
   "cell_type": "code",
   "execution_count": 7,
   "id": "d17cf164",
   "metadata": {},
   "outputs": [
    {
     "name": "stdout",
     "output_type": "stream",
     "text": [
      "enter the number3\n",
      "odd number\n"
     ]
    }
   ],
   "source": [
    "# given number is even or odd\n",
    "n=int(input(\"enter the number\"))\n",
    "if(n%2==0):\n",
    "    print(\"even number\")\n",
    "else:\n",
    "    print(\"odd number\")"
   ]
  },
  {
   "cell_type": "code",
   "execution_count": 8,
   "id": "a6fa09b0",
   "metadata": {},
   "outputs": [
    {
     "name": "stdout",
     "output_type": "stream",
     "text": [
      "enter the number88\n",
      "even number\n"
     ]
    }
   ],
   "source": [
    "# given number is even or odd\n",
    "n=int(input(\"enter the number\"))\n",
    "if(n%2==0):\n",
    "    print(\"even number\")\n",
    "else:\n",
    "    print(\"odd number\")"
   ]
  },
  {
   "cell_type": "markdown",
   "id": "e74c5f08",
   "metadata": {},
   "source": [
    "#### given number is zero or positive or negative"
   ]
  },
  {
   "cell_type": "markdown",
   "id": "c688c660",
   "metadata": {},
   "source": []
  },
  {
   "cell_type": "code",
   "execution_count": 13,
   "id": "6d647238",
   "metadata": {},
   "outputs": [
    {
     "name": "stdout",
     "output_type": "stream",
     "text": [
      "positive\n"
     ]
    }
   ],
   "source": [
    "n=25\n",
    "if(n==0):\n",
    "    print(\"zero\")\n",
    "elif(n>0):\n",
    "        print(\"positive\")\n",
    "else:\n",
    "        print(\"negative\")"
   ]
  },
  {
   "cell_type": "code",
   "execution_count": 14,
   "id": "26dc0586",
   "metadata": {},
   "outputs": [
    {
     "name": "stdout",
     "output_type": "stream",
     "text": [
      "invalid number\n"
     ]
    },
    {
     "name": "stderr",
     "output_type": "stream",
     "text": [
      "<>:3: SyntaxWarning: \"is\" with a literal. Did you mean \"==\"?\n",
      "<>:3: SyntaxWarning: \"is not\" with a literal. Did you mean \"!=\"?\n",
      "<>:3: SyntaxWarning: \"is\" with a literal. Did you mean \"==\"?\n",
      "<>:3: SyntaxWarning: \"is not\" with a literal. Did you mean \"!=\"?\n",
      "C:\\Users\\EFLAB\\AppData\\Local\\Temp/ipykernel_488/6687005.py:3: SyntaxWarning: \"is\" with a literal. Did you mean \"==\"?\n",
      "  if a%2 is 0 and a%10 is not 0:\n",
      "C:\\Users\\EFLAB\\AppData\\Local\\Temp/ipykernel_488/6687005.py:3: SyntaxWarning: \"is not\" with a literal. Did you mean \"!=\"?\n",
      "  if a%2 is 0 and a%10 is not 0:\n"
     ]
    }
   ],
   "source": [
    "# number is divisible by 2 but not divisible by 10\n",
    "a=23\n",
    "if a%2 is 0 and a%10 is not 0:\n",
    "    print(\"valid number\")\n",
    "else:\n",
    "    print(\"invalid number\")"
   ]
  },
  {
   "cell_type": "code",
   "execution_count": 15,
   "id": "8e075a1b",
   "metadata": {},
   "outputs": [
    {
     "name": "stdout",
     "output_type": "stream",
     "text": [
      "invalid number\n"
     ]
    }
   ],
   "source": [
    "# number is divisible by 2 but not divisible by 10\n",
    "a=23\n",
    "if a%2 == 0 and a%10 != 0:\n",
    "    print(\"valid number\")\n",
    "else:\n",
    "    print(\"invalid number\")"
   ]
  },
  {
   "cell_type": "markdown",
   "id": "a2ccd4ff",
   "metadata": {},
   "source": [
    "### Range\n",
    "- syntax for the range is range(start,endvalue,step value)\n",
    "- starting value is inclusive and end value is exclusive"
   ]
  },
  {
   "cell_type": "code",
   "execution_count": null,
   "id": "9699d108",
   "metadata": {},
   "outputs": [],
   "source": [
    "range(start,end,step)"
   ]
  },
  {
   "cell_type": "code",
   "execution_count": 16,
   "id": "ba118ec1",
   "metadata": {},
   "outputs": [
    {
     "data": {
      "text/plain": [
       "range(10, 1, -1)"
      ]
     },
     "execution_count": 16,
     "metadata": {},
     "output_type": "execute_result"
    }
   ],
   "source": [
    "range(19,20,1)\n",
    "# 10,11,12,13,14,15,16,17,18,19\n",
    "range(20,30,2)\n",
    "# 20,22,24,26,28\n",
    "range(20,41,5)\n",
    "#20,25,30,35,40\n",
    "range(50)\n",
    "# consider as start value\n",
    "range(20,30)\n",
    "# consider start value and end value\n",
    "# reverse print\n",
    "range(10,1,-1)"
   ]
  },
  {
   "cell_type": "code",
   "execution_count": 19,
   "id": "b4acad4a",
   "metadata": {},
   "outputs": [
    {
     "data": {
      "text/plain": [
       "[0, 1, 2, 3, 4, 5, 6, 7, 8, 9]"
      ]
     },
     "execution_count": 19,
     "metadata": {},
     "output_type": "execute_result"
    }
   ],
   "source": [
    "list(range(10))"
   ]
  },
  {
   "cell_type": "code",
   "execution_count": 20,
   "id": "3e15a885",
   "metadata": {},
   "outputs": [
    {
     "data": {
      "text/plain": [
       "[20, 22, 24, 26, 28]"
      ]
     },
     "execution_count": 20,
     "metadata": {},
     "output_type": "execute_result"
    }
   ],
   "source": [
    "list(range(20,30,2))"
   ]
  },
  {
   "cell_type": "code",
   "execution_count": 21,
   "id": "e9ebe4ba",
   "metadata": {},
   "outputs": [
    {
     "data": {
      "text/plain": [
       "[20, 25, 30, 35, 40]"
      ]
     },
     "execution_count": 21,
     "metadata": {},
     "output_type": "execute_result"
    }
   ],
   "source": [
    "list(range(20,41,5))"
   ]
  },
  {
   "cell_type": "code",
   "execution_count": 22,
   "id": "5b01dee4",
   "metadata": {},
   "outputs": [
    {
     "data": {
      "text/plain": [
       "[0,\n",
       " 1,\n",
       " 2,\n",
       " 3,\n",
       " 4,\n",
       " 5,\n",
       " 6,\n",
       " 7,\n",
       " 8,\n",
       " 9,\n",
       " 10,\n",
       " 11,\n",
       " 12,\n",
       " 13,\n",
       " 14,\n",
       " 15,\n",
       " 16,\n",
       " 17,\n",
       " 18,\n",
       " 19,\n",
       " 20,\n",
       " 21,\n",
       " 22,\n",
       " 23,\n",
       " 24,\n",
       " 25,\n",
       " 26,\n",
       " 27,\n",
       " 28,\n",
       " 29,\n",
       " 30,\n",
       " 31,\n",
       " 32,\n",
       " 33,\n",
       " 34,\n",
       " 35,\n",
       " 36,\n",
       " 37,\n",
       " 38,\n",
       " 39,\n",
       " 40,\n",
       " 41,\n",
       " 42,\n",
       " 43,\n",
       " 44,\n",
       " 45,\n",
       " 46,\n",
       " 47,\n",
       " 48,\n",
       " 49]"
      ]
     },
     "execution_count": 22,
     "metadata": {},
     "output_type": "execute_result"
    }
   ],
   "source": [
    "list(range(50))"
   ]
  },
  {
   "cell_type": "code",
   "execution_count": 23,
   "id": "3a3fa92e",
   "metadata": {},
   "outputs": [
    {
     "data": {
      "text/plain": [
       "[20, 21, 22, 23, 24, 25, 26, 27, 28, 29]"
      ]
     },
     "execution_count": 23,
     "metadata": {},
     "output_type": "execute_result"
    }
   ],
   "source": [
    "list(range(20,30))"
   ]
  },
  {
   "cell_type": "code",
   "execution_count": 24,
   "id": "662796ba",
   "metadata": {},
   "outputs": [
    {
     "data": {
      "text/plain": [
       "[10, 9, 8, 7, 6, 5, 4, 3, 2]"
      ]
     },
     "execution_count": 24,
     "metadata": {},
     "output_type": "execute_result"
    }
   ],
   "source": [
    "list(range(10,1,-1))"
   ]
  },
  {
   "cell_type": "markdown",
   "id": "67ae4264",
   "metadata": {},
   "source": [
    "### loops\n",
    "- for,while\n",
    "- for loop:::A for loop in python is a control flow statement that are used to repeatedly execute a group of statements as long as the condition is satisfied.\n",
    "- Such a type of statement is also known as an iterative statement.\n",
    "- Threefore,for loop is an iterative statement."
   ]
  },
  {
   "cell_type": "markdown",
   "id": "14ad8df1",
   "metadata": {},
   "source": [
    "# syntax:::\n",
    "            for iter in iterable: # range predefined function in the position of iterable \n",
    "                statement1\n",
    "                statement2\n",
    "                statementn"
   ]
  },
  {
   "cell_type": "code",
   "execution_count": 1,
   "id": "88ecd0ce",
   "metadata": {},
   "outputs": [
    {
     "name": "stdout",
     "output_type": "stream",
     "text": [
      "0\n",
      "1\n",
      "2\n",
      "3\n",
      "4\n"
     ]
    }
   ],
   "source": [
    "for i in range(5):\n",
    "    print(i)"
   ]
  },
  {
   "cell_type": "code",
   "execution_count": 2,
   "id": "4816d365",
   "metadata": {},
   "outputs": [
    {
     "name": "stdout",
     "output_type": "stream",
     "text": [
      "0 1 2 3 4 "
     ]
    }
   ],
   "source": [
    "for i in range(5):\n",
    "    print(i,end=\" \")"
   ]
  },
  {
   "cell_type": "code",
   "execution_count": 4,
   "id": "8f3dfceb",
   "metadata": {},
   "outputs": [
    {
     "name": "stdout",
     "output_type": "stream",
     "text": [
      "0 2 4 6 8 "
     ]
    }
   ],
   "source": [
    "for i in range(0,10,2):\n",
    "    print(i,end=\" \")"
   ]
  },
  {
   "cell_type": "code",
   "execution_count": 6,
   "id": "4f4b9a08",
   "metadata": {},
   "outputs": [
    {
     "name": "stdout",
     "output_type": "stream",
     "text": [
      "0 \n",
      "even number count: 1\n",
      "2 \n",
      "even number count: 2\n",
      "4 \n",
      "even number count: 3\n",
      "6 \n",
      "even number count: 4\n",
      "8 \n",
      "even number count: 5\n",
      "10 \n",
      "even number count: 6\n",
      "12 \n",
      "even number count: 7\n",
      "14 \n",
      "even number count: 8\n",
      "16 \n",
      "even number count: 9\n",
      "18 \n",
      "even number count: 10\n",
      "20 \n",
      "even number count: 11\n",
      "22 \n",
      "even number count: 12\n",
      "24 \n",
      "even number count: 13\n",
      "26 \n",
      "even number count: 14\n",
      "28 \n",
      "even number count: 15\n",
      "30 \n",
      "even number count: 16\n",
      "32 \n",
      "even number count: 17\n",
      "34 \n",
      "even number count: 18\n",
      "36 \n",
      "even number count: 19\n",
      "38 \n",
      "even number count: 20\n",
      "40 \n",
      "even number count: 21\n",
      "42 \n",
      "even number count: 22\n",
      "44 \n",
      "even number count: 23\n",
      "46 \n",
      "even number count: 24\n",
      "48 \n",
      "even number count: 25\n",
      "50 \n",
      "even number count: 26\n",
      "52 \n",
      "even number count: 27\n",
      "54 \n",
      "even number count: 28\n",
      "56 \n",
      "even number count: 29\n",
      "58 \n",
      "even number count: 30\n",
      "60 \n",
      "even number count: 31\n",
      "62 \n",
      "even number count: 32\n",
      "64 \n",
      "even number count: 33\n",
      "66 \n",
      "even number count: 34\n",
      "68 \n",
      "even number count: 35\n",
      "70 \n",
      "even number count: 36\n",
      "72 \n",
      "even number count: 37\n",
      "74 \n",
      "even number count: 38\n",
      "76 \n",
      "even number count: 39\n",
      "78 \n",
      "even number count: 40\n",
      "80 \n",
      "even number count: 41\n",
      "82 \n",
      "even number count: 42\n",
      "84 \n",
      "even number count: 43\n",
      "86 \n",
      "even number count: 44\n",
      "88 \n",
      "even number count: 45\n",
      "90 \n",
      "even number count: 46\n",
      "92 \n",
      "even number count: 47\n",
      "94 \n",
      "even number count: 48\n",
      "96 \n",
      "even number count: 49\n",
      "98 \n",
      "even number count: 50\n",
      "100 \n",
      "even number count: 51\n"
     ]
    }
   ],
   "source": [
    "# print the evem numbers in the range of 0 to 100 and print even number count\n",
    "c=0\n",
    "for i in range(0,101,2):\n",
    "    c=c+1\n",
    "    print(i,end=\" \")\n",
    "    print(\"\\neven number count:\",c)"
   ]
  },
  {
   "cell_type": "code",
   "execution_count": 10,
   "id": "13e8f495",
   "metadata": {},
   "outputs": [
    {
     "name": "stdout",
     "output_type": "stream",
     "text": [
      "0 \n",
      "even number count: 1\n",
      "\n",
      "even number count: 1\n",
      "2 \n",
      "even number count: 2\n",
      "\n",
      "even number count: 2\n",
      "4 \n",
      "even number count: 3\n",
      "\n",
      "even number count: 3\n",
      "6 \n",
      "even number count: 4\n",
      "\n",
      "even number count: 4\n",
      "8 \n",
      "even number count: 5\n",
      "\n",
      "even number count: 5\n",
      "10 \n",
      "even number count: 6\n",
      "\n",
      "even number count: 6\n",
      "12 \n",
      "even number count: 7\n",
      "\n",
      "even number count: 7\n",
      "14 \n",
      "even number count: 8\n",
      "\n",
      "even number count: 8\n",
      "16 \n",
      "even number count: 9\n",
      "\n",
      "even number count: 9\n",
      "18 \n",
      "even number count: 10\n",
      "\n",
      "even number count: 10\n",
      "20 \n",
      "even number count: 11\n",
      "\n",
      "even number count: 11\n",
      "22 \n",
      "even number count: 12\n",
      "\n",
      "even number count: 12\n",
      "24 \n",
      "even number count: 13\n",
      "\n",
      "even number count: 13\n",
      "26 \n",
      "even number count: 14\n",
      "\n",
      "even number count: 14\n",
      "28 \n",
      "even number count: 15\n",
      "\n",
      "even number count: 15\n",
      "30 \n",
      "even number count: 16\n",
      "\n",
      "even number count: 16\n",
      "32 \n",
      "even number count: 17\n",
      "\n",
      "even number count: 17\n",
      "34 \n",
      "even number count: 18\n",
      "\n",
      "even number count: 18\n",
      "36 \n",
      "even number count: 19\n",
      "\n",
      "even number count: 19\n",
      "38 \n",
      "even number count: 20\n",
      "\n",
      "even number count: 20\n",
      "40 \n",
      "even number count: 21\n",
      "\n",
      "even number count: 21\n",
      "42 \n",
      "even number count: 22\n",
      "\n",
      "even number count: 22\n",
      "44 \n",
      "even number count: 23\n",
      "\n",
      "even number count: 23\n",
      "46 \n",
      "even number count: 24\n",
      "\n",
      "even number count: 24\n",
      "48 \n",
      "even number count: 25\n",
      "\n",
      "even number count: 25\n",
      "50 \n",
      "even number count: 26\n",
      "\n",
      "even number count: 26\n",
      "52 \n",
      "even number count: 27\n",
      "\n",
      "even number count: 27\n",
      "54 \n",
      "even number count: 28\n",
      "\n",
      "even number count: 28\n",
      "56 \n",
      "even number count: 29\n",
      "\n",
      "even number count: 29\n",
      "58 \n",
      "even number count: 30\n",
      "\n",
      "even number count: 30\n",
      "60 \n",
      "even number count: 31\n",
      "\n",
      "even number count: 31\n",
      "62 \n",
      "even number count: 32\n",
      "\n",
      "even number count: 32\n",
      "64 \n",
      "even number count: 33\n",
      "\n",
      "even number count: 33\n",
      "66 \n",
      "even number count: 34\n",
      "\n",
      "even number count: 34\n",
      "68 \n",
      "even number count: 35\n",
      "\n",
      "even number count: 35\n",
      "70 \n",
      "even number count: 36\n",
      "\n",
      "even number count: 36\n",
      "72 \n",
      "even number count: 37\n",
      "\n",
      "even number count: 37\n",
      "74 \n",
      "even number count: 38\n",
      "\n",
      "even number count: 38\n",
      "76 \n",
      "even number count: 39\n",
      "\n",
      "even number count: 39\n",
      "78 \n",
      "even number count: 40\n",
      "\n",
      "even number count: 40\n",
      "80 \n",
      "even number count: 41\n",
      "\n",
      "even number count: 41\n",
      "82 \n",
      "even number count: 42\n",
      "\n",
      "even number count: 42\n",
      "84 \n",
      "even number count: 43\n",
      "\n",
      "even number count: 43\n",
      "86 \n",
      "even number count: 44\n",
      "\n",
      "even number count: 44\n",
      "88 \n",
      "even number count: 45\n",
      "\n",
      "even number count: 45\n",
      "90 \n",
      "even number count: 46\n",
      "\n",
      "even number count: 46\n",
      "92 \n",
      "even number count: 47\n",
      "\n",
      "even number count: 47\n",
      "94 \n",
      "even number count: 48\n",
      "\n",
      "even number count: 48\n",
      "96 \n",
      "even number count: 49\n",
      "\n",
      "even number count: 49\n",
      "98 \n",
      "even number count: 50\n",
      "\n",
      "even number count: 50\n",
      "100 \n",
      "even number count: 51\n"
     ]
    }
   ],
   "source": [
    "c=0\n",
    "for i in range(0,101):\n",
    "    if i%2==0:\n",
    "        c=c+1\n",
    "        print(i,end=\" \")\n",
    "    print(\"\\neven number count:\",c)"
   ]
  },
  {
   "cell_type": "code",
   "execution_count": 2,
   "id": "973fd9fd",
   "metadata": {},
   "outputs": [
    {
     "name": "stdout",
     "output_type": "stream",
     "text": [
      "2001\n",
      "2019\n",
      "2004 2008 2012 2016 \n",
      "years count: 4\n"
     ]
    }
   ],
   "source": [
    "# print leap year from the range of 2000 to 2020, print years\n",
    "x=int(input())\n",
    "y=int(input())\n",
    "c=0\n",
    "for i in range(x,y+1):\n",
    "    if (i%400==0) and (i%100!=0) or (i%4==0):\n",
    "        c=c+1\n",
    "        print(i,end=\" \")\n",
    "print(\"\\nyears count:\",c)"
   ]
  },
  {
   "cell_type": "code",
   "execution_count": 7,
   "id": "78583926",
   "metadata": {},
   "outputs": [
    {
     "name": "stdout",
     "output_type": "stream",
     "text": [
      "5 * 1 = 5\n",
      "5 * 1 = 10\n",
      "5 * 1 = 15\n",
      "5 * 1 = 20\n",
      "5 * 1 = 25\n",
      "5 * 1 = 30\n",
      "5 * 1 = 35\n",
      "5 * 1 = 40\n",
      "5 * 1 = 45\n",
      "5 * 1 = 50\n"
     ]
    }
   ],
   "source": [
    "n=5\n",
    "for i in range(1,11):\n",
    "    print(n,\"*\",1,\"=\",n*i)"
   ]
  },
  {
   "cell_type": "code",
   "execution_count": 8,
   "id": "2daeb807",
   "metadata": {},
   "outputs": [
    {
     "name": "stdout",
     "output_type": "stream",
     "text": [
      "9\n",
      "1 3 9 "
     ]
    }
   ],
   "source": [
    "# print factors of 5\n",
    "n=int(input())\n",
    "for i in range(1,n+1):\n",
    "    if (n%i==0):\n",
    "        print(i,end=\" \")"
   ]
  },
  {
   "cell_type": "code",
   "execution_count": 10,
   "id": "650961da",
   "metadata": {},
   "outputs": [
    {
     "name": "stdout",
     "output_type": "stream",
     "text": [
      "Cbf\n",
      "267\n"
     ]
    }
   ],
   "source": [
    "# I/P=aba\n",
    "# 97+98+97=292\n",
    "# o/p 292\n",
    "a=input()\n",
    "s=0\n",
    "for i in a:\n",
    "    s=s+ord(i)\n",
    "print(s)"
   ]
  },
  {
   "cell_type": "code",
   "execution_count": null,
   "id": "443d3501",
   "metadata": {},
   "outputs": [],
   "source": [
    "# prime number\n",
    "n=int(input())\n",
    "c=0\n",
    "for i in range(1,n+1):\n",
    "    if (n%i==0):\n",
    "        c=c+1\n",
    "if(c==2):\n",
    "    print(\"prime number\")\n",
    "else:\n",
    "        print(\"not a prime number\")"
   ]
  },
  {
   "cell_type": "code",
   "execution_count": 6,
   "id": "a2338761",
   "metadata": {},
   "outputs": [
    {
     "name": "stdout",
     "output_type": "stream",
     "text": [
      "enter number33\n",
      "even numbers are\n",
      "0\n",
      "2\n",
      "4\n",
      "6\n",
      "8\n",
      "10\n",
      "12\n",
      "14\n",
      "16\n",
      "18\n",
      "20\n",
      "22\n",
      "24\n",
      "26\n",
      "28\n",
      "30\n",
      "32\n",
      "odd numbers\n",
      "1 3 5 7 9 11 13 15 17 19 21 23 25 27 29 31 33 "
     ]
    }
   ],
   "source": [
    "# 0-10\n",
    "# even numbers\n",
    "# odd numbers\n",
    "n=int(input(\"enter number\"))\n",
    "print(\"even numbers are\")\n",
    "for i in range(n+1):\n",
    "    if (i%2==0):\n",
    "        print(i)\n",
    "print(\"odd numbers\")\n",
    "for i in range(n+1):\n",
    "    if(i%2!=0):\n",
    "        print(i,end=\" \")"
   ]
  },
  {
   "cell_type": "code",
   "execution_count": null,
   "id": "9e5f7822",
   "metadata": {},
   "outputs": [],
   "source": []
  },
  {
   "cell_type": "code",
   "execution_count": null,
   "id": "0159072a",
   "metadata": {},
   "outputs": [],
   "source": []
  },
  {
   "cell_type": "code",
   "execution_count": null,
   "id": "a33c7c9d",
   "metadata": {},
   "outputs": [],
   "source": []
  }
 ],
 "metadata": {
  "kernelspec": {
   "display_name": "Python 3 (ipykernel)",
   "language": "python",
   "name": "python3"
  },
  "language_info": {
   "codemirror_mode": {
    "name": "ipython",
    "version": 3
   },
   "file_extension": ".py",
   "mimetype": "text/x-python",
   "name": "python",
   "nbconvert_exporter": "python",
   "pygments_lexer": "ipython3",
   "version": "3.9.7"
  }
 },
 "nbformat": 4,
 "nbformat_minor": 5
}
